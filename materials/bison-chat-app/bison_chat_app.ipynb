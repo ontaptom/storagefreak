{
  "nbformat": 4,
  "nbformat_minor": 0,
  "metadata": {
    "colab": {
      "provenance": []
    },
    "kernelspec": {
      "name": "python3",
      "display_name": "Python 3"
    },
    "language_info": {
      "name": "python"
    }
  },
  "cells": [
    {
      "cell_type": "markdown",
      "source": [
        "# Run Simple PaLM2 Chat Application in  Your colab!\n",
        "\n",
        "## Step 1. Install required packages.\n",
        "\n",
        "Please note that after executing first step you will be asked to \"RESTART RUNTIME\" (dedicated button appear). Hit the button, it should restart colab runtime in few seconds and you can continue."
      ],
      "metadata": {
        "id": "AM0zLDkoWHhm"
      }
    },
    {
      "cell_type": "code",
      "source": [
        "! pip install google-cloud-aiplatform"
      ],
      "metadata": {
        "id": "jgadwhWhUotm"
      },
      "execution_count": null,
      "outputs": []
    },
    {
      "cell_type": "markdown",
      "source": [
        "## Step 2. Setup authentication to your google cloud environment.\n",
        "\n",
        "You restarted runtime after first step completed yet? OK - great, let's go with step 2 - In this colab we'll use our own permission to execute code. For that, run the next command, it will ask you to confirm you give permissions to this notebook to use your google cloud credentials when intearcting with GCP APIs."
      ],
      "metadata": {
        "id": "M4ZDkGSfWjfu"
      }
    },
    {
      "cell_type": "code",
      "source": [
        "from google.colab import auth as google_auth\n",
        "google_auth.authenticate_user()"
      ],
      "metadata": {
        "id": "mSS-k4fjV_cN"
      },
      "execution_count": null,
      "outputs": []
    },
    {
      "cell_type": "markdown",
      "source": [
        "## Step 3. Let's specify the google cloud project\n",
        "\n",
        "Run the below command and once prompted, give a project name you wish to use for your google cloud chat. If you are not sure what I'm asking about check out this article:\n",
        "\n",
        "https://www.storagefreak.net/2023/09/create-your-first-chat-app-with-palm-2\n",
        "\n",
        "When I describe how to build such app in the first place."
      ],
      "metadata": {
        "id": "y_GbuK3fXFnt"
      }
    },
    {
      "cell_type": "code",
      "source": [
        "project_id = input(\"Provide Project ID:\")"
      ],
      "metadata": {
        "id": "7NvpUrknXcVj"
      },
      "execution_count": null,
      "outputs": []
    },
    {
      "cell_type": "markdown",
      "source": [
        "## Step 4. Time to run our application!\n",
        "\n",
        "You can use mine code (describe in article at storagefreak.net), modify it, or use your own instead of mine. Just make sure you pass a proper project id"
      ],
      "metadata": {
        "id": "Bzygv3l0XnaL"
      }
    },
    {
      "cell_type": "code",
      "execution_count": null,
      "metadata": {
        "id": "SY3ginNAUVO3"
      },
      "outputs": [],
      "source": [
        "import vertexai\n",
        "from vertexai.language_models import ChatModel, InputOutputTextPair\n",
        "\n",
        "vertexai.init(project=project_id, location=\"us-central1\")\n",
        "chat_model = ChatModel.from_pretrained(\"chat-bison\")\n",
        "parameters = {\n",
        "    \"candidate_count\": 1,\n",
        "    \"max_output_tokens\": 1024,\n",
        "    \"temperature\": 0.2,\n",
        "    \"top_p\": 0.8,\n",
        "    \"top_k\": 40\n",
        "}\n",
        "chat = chat_model.start_chat()\n",
        "\n",
        "# Informing the user about how to exit the chat\n",
        "print(\"Welcome to the chat! Type 'quit' or 'exit' to end the conversation.\")\n",
        "\n",
        "while True:\n",
        "    user_input = input(\"You: \")\n",
        "    if user_input.lower() in ['quit', 'exit']:\n",
        "        print(\"Exiting chat. Goodbye!\")\n",
        "        break\n",
        "\n",
        "    response = chat.send_message(user_input, **parameters)\n",
        "    print(f\"Response from Model: {response.text}\")"
      ]
    },
    {
      "cell_type": "markdown",
      "source": [
        "That's it! Just make sure to enter 'exit' or 'quit' to finish the conversation."
      ],
      "metadata": {
        "id": "ULNAmTQXYefA"
      }
    }
  ]
}
